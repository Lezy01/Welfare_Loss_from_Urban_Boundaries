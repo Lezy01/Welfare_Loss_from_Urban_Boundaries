{
 "cells": [
  {
   "cell_type": "markdown",
   "id": "ff1073dc",
   "metadata": {},
   "source": [
    "# rent curve 拟合\n",
    "\n",
    "## 计算city/county乡村土地地租均值"
   ]
  },
  {
   "cell_type": "code",
   "execution_count": 5,
   "id": "605e9585",
   "metadata": {},
   "outputs": [],
   "source": [
    "import pandas as pd\n",
    "import geopandas as gpd\n",
    "from shapely.geometry import Point\n",
    "import os"
   ]
  },
  {
   "cell_type": "code",
   "execution_count": null,
   "id": "1cc40e3f",
   "metadata": {},
   "outputs": [],
   "source": [
    "\n",
    "\n",
    "def compute_avg_rural_rent(prov, city, agr_path, admin_path, builtup_path):\n",
    "    \"\"\"\n",
    "    Compute the average agricultural land rent for a given city,\n",
    "    restricted to areas within the administrative boundary and outside the built-up area.\n",
    "    \n",
    "    Parameters:\n",
    "        prov: Province name (e.g., 'Hebei')\n",
    "        city: City or county name (e.g., 'Baoding' or 'Anxin County')\n",
    "        agr_path: Path to agricultural land value CSV file\n",
    "        admin_path: Path to China's administrative boundary shapefile\n",
    "        builtup_path: Path to built-up area shapefile\n",
    "    \n",
    "    Returns:\n",
    "        Average price_m2 (float), or None if no matching data is found\n",
    "    \"\"\"\n",
    "\n",
    "    df = pd.read_csv(agr_path)\n",
    "    gdf_agr = gpd.GeoDataFrame(\n",
    "        df, geometry=gpd.points_from_xy(df.lon, df.lat), crs=\"EPSG:4326\"\n",
    "    )\n",
    "\n",
    "\n",
    "    gdf_admin = gpd.read_file(admin_path).to_crs(\"EPSG:4326\")\n",
    "    gdf_admin.loc[:, \"geometry\"] = gdf_admin.geometry.buffer(0)\n",
    "    gdf_admin = gdf_admin.rename(\n",
    "        columns={\n",
    "            \"NAME_1\": \"province\",\n",
    "            \"NAME_2\": \"city\",\n",
    "            \"NAME_3\": \"county\",\n",
    "        }\n",
    "    )\n",
    "\n",
    "\n",
    "    gdf_builtup = gpd.read_file(builtup_path).to_crs(\"EPSG:4326\")\n",
    "    gdf_builtup.loc[:, \"geometry\"] = gdf_builtup.geometry.buffer(0)\n",
    "\n",
    "    mask = (\n",
    "        gdf_admin.province.str.lower().str.strip() == prov.lower().strip()\n",
    "    )\n",
    "    city_mask = (\n",
    "        gdf_admin.city.str.lower().str.strip() == city.lower().strip()\n",
    "    )\n",
    "    county_mask = (\n",
    "        gdf_admin.county.str.lower().str.strip() == city.lower().strip()\n",
    "    )\n",
    "    gdf_sub = gdf_admin.loc[mask & (city_mask | county_mask)]\n",
    "    if gdf_sub.empty:\n",
    "        print(f\"cannot find {prov}-{city} in the administrative boundary shapefile.\")\n",
    "        return None\n",
    "\n",
    "\n",
    "    admin_union = gdf_sub.geometry.union_all()\n",
    "    gdf_builtup_sub = gdf_builtup.loc[\n",
    "        gdf_builtup.geometry.intersects(admin_union)\n",
    "    ]\n",
    "    builtup_union = (\n",
    "        gdf_builtup_sub.geometry.union_all()\n",
    "        if not gdf_builtup_sub.empty else None\n",
    "    )\n",
    "\n",
    "\n",
    "    in_admin = gdf_agr.geometry.within(admin_union)\n",
    "    if builtup_union is not None:\n",
    "        in_rural = ~gdf_agr.geometry.within(builtup_union)\n",
    "        gdf_final = gdf_agr.loc[in_admin & in_rural]\n",
    "    else:\n",
    "        gdf_final = gdf_agr.loc[in_admin]\n",
    "\n",
    "    if gdf_final.empty:\n",
    "        print(f\"{prov}-{city} has no valid agricultural land points.\")\n",
    "        return None\n",
    "    \n",
    "    # consider the present discounted value of future income flows from land use.\n",
    "    # discount rate is 5% per year\n",
    "    return gdf_final[\"price_m2\"].mean()/0.05\n"
   ]
  },
  {
   "cell_type": "code",
   "execution_count": 7,
   "id": "0376635c",
   "metadata": {},
   "outputs": [],
   "source": [
    "def parse_prov_city_from_filename(filename: str):\n",
    "    \"\"\"\n",
    "    Parse province and city from filename.\n",
    "    Example: 'Anhui-Anqing_hp.csv' → ('Anhui', 'Anqing')\n",
    "    \"\"\"\n",
    "    base = os.path.basename(filename)\n",
    "    if base.endswith('_hp.csv'):\n",
    "        base = base[:-len('_hp.csv')]\n",
    "    try:\n",
    "        prov, city = base.split('-', 1)\n",
    "        return prov.strip(), city.strip()\n",
    "    except ValueError:\n",
    "        raise ValueError(f\"Failed to parse province and city from filename: {filename}\")\n"
   ]
  },
  {
   "cell_type": "code",
   "execution_count": 8,
   "id": "03aeb8f0",
   "metadata": {},
   "outputs": [
    {
     "data": {
      "text/plain": [
       "Index(['地名', '区划码', '县级', '县级码', '县级类', '地级', '地级码', '地级类', '省级', '省级码', '省级类',\n",
       "       '曾用名', '备注', 'ENG_NAME', 'VAR_NAME', 'code', 'NAME_3', 'VAR_NAME3',\n",
       "       'GID_3', 'TYPE_3', 'NAME_2', 'VAR_NAME2', 'GID_2', 'TYPE_2', 'NAME_1',\n",
       "       'VAR_NAME1', 'GID_1', 'TYPE_1', 'year', 'geometry'],\n",
       "      dtype='object')"
      ]
     },
     "execution_count": 8,
     "metadata": {},
     "output_type": "execute_result"
    }
   ],
   "source": [
    "file_name = \"/Users/yxy/UChi/Spring2025/MACS30123/Final_project/Data/Cleaned/City_hp/Anhui-Anqing_hp.csv\"\n",
    "prov, city = parse_prov_city_from_filename(file_name)\n",
    "agr_path = \"/Users/yxy/UChi/Spring2025/MACS30123/Final_project/Data/Cleaned/agr_val_2022.csv\"\n",
    "admin_path = \"/Users/yxy/UChi/Spring2025/MACS30123/Final_project/Data/Raw/China_Adm_2020/China2020County.shp\"\n",
    "builtup_path = \"/Users/yxy/UChi/Spring2025/MACS30123/Final_project/Data/Cleaned/China_BuiltUp_300kCities_2020/China_BuiltUp_300kCities_2020.shp\"\n",
    "\n",
    "gdf_adimin_county = gpd.read_file(admin_path)\n",
    "gdf_adimin_county.columns\n",
    "\n"
   ]
  },
  {
   "cell_type": "code",
   "execution_count": null,
   "id": "d2c45bf2",
   "metadata": {},
   "outputs": [
    {
     "name": "stderr",
     "output_type": "stream",
     "text": [
      "/opt/anaconda3/envs/midway-debug/lib/python3.9/site-packages/pyogrio/raw.py:198: RuntimeWarning: /Users/yxy/UChi/Spring2025/MACS30123/Final_project/Data/Cleaned/China_BuiltUp_300kCities_2020/China_BuiltUp_300kCities_2020.shp contains polygon(s) with rings with invalid winding order. Autocorrecting them, but that shapefile should be corrected using ogr2ogr for example.\n",
      "  return ogr_read(\n"
     ]
    },
    {
     "name": "stdout",
     "output_type": "stream",
     "text": [
      "average algricultural land rent in Anhui-Anqing is 29.408967034675488 CNY/m2\n"
     ]
    }
   ],
   "source": [
    "avg_price = compute_avg_rural_rent(prov, city, agr_path, admin_path, builtup_path) \n",
    "print(f\"average algricultural land rent in {prov}-{city} is {avg_price} CNY/m2\")"
   ]
  },
  {
   "cell_type": "markdown",
   "id": "e9d60fce",
   "metadata": {},
   "source": [
    "\n",
    "### Method: Converting Annual Agricultural Land Output into Land Value for Comparison with Housing Prices\n",
    "\n",
    "This section explains how to convert annual agricultural land productivity (in RMB per square meter per year) into an estimate of land value that can be meaningfully compared to urban land prices or housing prices. The conversion relies on standard economic principles of income capitalization.\n",
    "\n",
    "#### Step 1: Starting Point – Annual Output\n",
    "\n",
    "The computed value:\n",
    "\n",
    "- `R` denotes the **annual agricultural output per square meter**, in RMB/m²/year.\n",
    "\n",
    "This value reflects the flow-based productivity of the land, based on agro-climatic yield estimates from GAEZ and converted into 2022 RMB.\n",
    "\n",
    "#### Step 2: Capitalization into Land Value\n",
    "\n",
    "According to standard urban economics and land valuation theory (e.g., Alonso-Muth-Mills framework), the land value `P` is the present discounted value of future income flows from land use.\n",
    "\n",
    "For perpetual use rights, land value is computed as:\n",
    "\n",
    "```math\n",
    "P = \\frac{R}{r}\n",
    "````\n",
    "\n",
    "Where:\n",
    "\n",
    "* `R` is the annual land return (e.g., 5 RMB/m²/year)\n",
    "* `r` is the discount rate (e.g., 5%)\n",
    "\n",
    "This represents a standard perpetuity formula in asset pricing.\n",
    "\n",
    "#### Step 3: Finite Land Use Horizon\n",
    "\n",
    "For cases where land use is time-limited (e.g., 30-year rural land contracts), use the finite horizon annuity formula:\n",
    "\n",
    "```math\n",
    "P = R \\cdot \\frac{1 - (1 + r)^{-T}}{r}\n",
    "```\n",
    "\n",
    "Where:\n",
    "\n",
    "* `T` is the land use duration (e.g., 30 years)\n",
    "* `r` is the annual discount rate\n",
    "\n",
    "For example, with `R = 5`, `r = 0.05`, and `T = 30`:\n",
    "\n",
    "```math\n",
    "P \\approx 5 \\cdot \\frac{1 - (1.05)^{-30}}{0.05} \\approx 5 \\cdot 15.37 = 76.85 \\ \\text{RMB/m²}\n",
    "```\n",
    "\n",
    "This result is lower than the perpetual case `P = R / r = 100` due to the finite time horizon.\n",
    "\n",
    "#### Step 4: Recommended Parameters\n",
    "\n",
    "| Assumption        | Suggested Value | Interpretation                                               |\n",
    "| ----------------- | --------------- | ------------------------------------------------------------ |\n",
    "| Discount rate `r` | 3% – 7%         | Based on social discount rate or opportunity cost of capital |\n",
    "| Time horizon `T`  | 30 years        | Typical rural land contract period in China                  |\n",
    "\n",
    "\n",
    "\n",
    "#### Conclusion\n",
    "\n",
    "The resulting `land_price` column gives an estimate of the capitalized value of agricultural land per square meter, expressed in 2022 RMB. This value is directly comparable to urban residential land prices or housing floor prices (excluding construction cost), enabling integrated spatial comparisons of land use efficiency.\n"
   ]
  },
  {
   "cell_type": "code",
   "execution_count": null,
   "id": "d6c276bf",
   "metadata": {},
   "outputs": [],
   "source": [
    "def compute_avg_rural_rent_fast(prov, city, agr_path, admin_path, builtup_path):\n",
    "    import pandas as pd\n",
    "    import geopandas as gpd\n",
    "\n",
    "    # 读取农业点 + 空间转换\n",
    "    df = pd.read_csv(agr_path)\n",
    "    gdf_agr = gpd.GeoDataFrame(df, geometry=gpd.points_from_xy(df[\"lon\"], df[\"lat\"]), crs=\"EPSG:4326\")\n",
    "\n",
    "    # 读取行政区\n",
    "    gdf_admin = gpd.read_file(admin_path).to_crs(\"EPSG:4326\")\n",
    "    gdf_admin = gdf_admin.rename(columns={\"NAME_1\": \"province\", \"NAME_2\": \"city\", \"NAME_3\": \"county\"})\n",
    "    gdf_admin[\"geometry\"] = gdf_admin.geometry.buffer(0)\n",
    "\n",
    "    # 筛选省+市或县\n",
    "    mask_prov = gdf_admin[\"province\"].str.strip().str.lower() == prov.strip().lower()\n",
    "    mask_city = gdf_admin[\"city\"].str.strip().str.lower() == city.strip().lower()\n",
    "    mask_county = gdf_admin[\"county\"].str.strip().str.lower() == city.strip().lower()\n",
    "    gdf_sub = gdf_admin[mask_prov & (mask_city | mask_county)]\n",
    "    if gdf_sub.empty:\n",
    "        print(f\"❌ cannot find {prov}-{city}\")\n",
    "        return None\n",
    "    admin_union = gdf_sub.geometry.unary_union\n",
    "\n",
    "    # ❗提前裁剪点\n",
    "    minx, miny, maxx, maxy = admin_union.bounds\n",
    "    gdf_agr_crop = gdf_agr.cx[minx:maxx, miny:maxy]\n",
    "\n",
    "    # 读取建成区\n",
    "    gdf_builtup = gpd.read_file(builtup_path).to_crs(\"EPSG:4326\")\n",
    "    gdf_builtup[\"geometry\"] = gdf_builtup.geometry.buffer(0)\n",
    "    gdf_builtup_sub = gdf_builtup[gdf_builtup.geometry.intersects(admin_union)]\n",
    "    builtup_union = gdf_builtup_sub.geometry.unary_union if not gdf_builtup_sub.empty else None\n",
    "\n",
    "    # 快速空间判断\n",
    "    in_admin = gdf_agr_crop.geometry.within(admin_union)\n",
    "    in_builtup = gdf_agr_crop.geometry.within(builtup_union) if builtup_union else pd.Series(False, index=gdf_agr_crop.index)\n",
    "\n",
    "    gdf_final = gdf_agr_crop[in_admin & ~in_builtup]\n",
    "\n",
    "    if gdf_final.empty:\n",
    "        print(f\"{prov}-{city} 有效点为空\")\n",
    "        return None\n",
    "\n",
    "    return gdf_final[\"price_m2\"].mean() / 0.05\n"
   ]
  },
  {
   "cell_type": "code",
   "execution_count": null,
   "id": "ff7c2cab",
   "metadata": {},
   "outputs": [
    {
     "name": "stderr",
     "output_type": "stream",
     "text": [
      "/var/folders/4g/6_8lhyp147394q93651p5kyw0000gn/T/ipykernel_78584/1784599200.py:22: DeprecationWarning: The 'unary_union' attribute is deprecated, use the 'union_all()' method instead.\n",
      "  admin_union = gdf_sub.geometry.unary_union\n",
      "/opt/anaconda3/envs/midway-debug/lib/python3.9/site-packages/pyogrio/raw.py:198: RuntimeWarning: /Users/yxy/UChi/Spring2025/MACS30123/Final_project/Data/Cleaned/China_BuiltUp_300kCities_2020/China_BuiltUp_300kCities_2020.shp contains polygon(s) with rings with invalid winding order. Autocorrecting them, but that shapefile should be corrected using ogr2ogr for example.\n",
      "  return ogr_read(\n",
      "/var/folders/4g/6_8lhyp147394q93651p5kyw0000gn/T/ipykernel_78584/1784599200.py:32: DeprecationWarning: The 'unary_union' attribute is deprecated, use the 'union_all()' method instead.\n",
      "  builtup_union = gdf_builtup_sub.geometry.unary_union if not gdf_builtup_sub.empty else None\n"
     ]
    },
    {
     "name": "stdout",
     "output_type": "stream",
     "text": [
      "average algricultural land rent in Anhui-Anqing is 29.408967034675488 CNY/m2\n"
     ]
    }
   ],
   "source": [
    "avg_price = compute_avg_rural_rent_fast(prov, city, agr_path, admin_path, builtup_path) \n",
    "print(f\"average algricultural land rent in {prov}-{city} is {avg_price} CNY/m2\")"
   ]
  },
  {
   "cell_type": "code",
   "execution_count": null,
   "id": "02b403f7",
   "metadata": {},
   "outputs": [],
   "source": [
    "def compute_avg_rural_rent_fast2(prov, city, agr_path, admin_path, builtup_path):\n",
    "    import pandas as pd\n",
    "    import geopandas as gpd\n",
    "\n",
    "    df = pd.read_csv(agr_path)\n",
    "    gdf_agr = gpd.GeoDataFrame(df, geometry=gpd.points_from_xy(df[\"lon\"], df[\"lat\"]), crs=\"EPSG:4326\")\n",
    "\n",
    "    gdf_admin = gpd.read_file(admin_path).to_crs(\"EPSG:4326\")\n",
    "    gdf_admin = gdf_admin.rename(columns={\"NAME_1\": \"province\", \"NAME_2\": \"city\", \"NAME_3\": \"county\"})\n",
    "\n",
    "    # 修复无效geometry仅在必要时\n",
    "    if not gdf_admin.is_valid.all():\n",
    "        gdf_admin[\"geometry\"] = gdf_admin.buffer(0)\n",
    "\n",
    "    mask_prov = gdf_admin[\"province\"].str.strip().str.lower() == prov.strip().lower()\n",
    "    mask_city = gdf_admin[\"city\"].str.strip().str.lower() == city.strip().lower()\n",
    "    mask_county = gdf_admin[\"county\"].str.strip().str.lower() == city.strip().lower()\n",
    "    gdf_sub = gdf_admin[mask_prov & (mask_city | mask_county)]\n",
    "    if gdf_sub.empty:\n",
    "        print(f\"❌ cannot find {prov}-{city}\")\n",
    "        return None\n",
    "\n",
    "    admin_union = gdf_sub.geometry.unary_union\n",
    "    minx, miny, maxx, maxy = admin_union.bounds\n",
    "    gdf_agr_crop = gdf_agr.cx[minx:maxx, miny:maxy]\n",
    "\n",
    "    # 行政区空间过滤（sjoin）\n",
    "    gdf_admin_poly = gpd.GeoDataFrame(geometry=[admin_union], crs=\"EPSG:4326\")\n",
    "    gdf_in_admin = gpd.sjoin(gdf_agr_crop, gdf_admin_poly, predicate=\"within\", how=\"inner\")\n",
    "\n",
    "    # 读取建成区并筛选\n",
    "    gdf_builtup = gpd.read_file(builtup_path).to_crs(\"EPSG:4326\")\n",
    "    if not gdf_builtup.is_valid.all():\n",
    "        gdf_builtup[\"geometry\"] = gdf_builtup.buffer(0)\n",
    "    gdf_builtup_sub = gdf_builtup[gdf_builtup.geometry.intersects(admin_union)]\n",
    "\n",
    "    # 从 admin 点中排除建成区点\n",
    "    if not gdf_builtup_sub.empty:\n",
    "        gdf_not_in_builtup = gpd.sjoin(gdf_in_admin, gdf_builtup_sub, predicate=\"within\", how=\"left\", lsuffix=\"admin\", rsuffix=\"builtup\")\n",
    "        gdf_final = gdf_not_in_builtup[gdf_not_in_builtup[\"index_builtup\"].isna()]\n",
    "    else:\n",
    "        gdf_final = gdf_in_admin\n",
    "\n",
    "    if gdf_final.empty:\n",
    "        print(f\"{prov}-{city} 有效点为空\")\n",
    "        return None\n",
    "\n",
    "    return gdf_final[\"price_m2\"].mean() / 0.05\n"
   ]
  },
  {
   "cell_type": "code",
   "execution_count": null,
   "id": "0dd6fcf1",
   "metadata": {},
   "outputs": [
    {
     "name": "stderr",
     "output_type": "stream",
     "text": [
      "/var/folders/4g/6_8lhyp147394q93651p5kyw0000gn/T/ipykernel_78584/2419032901.py:23: DeprecationWarning: The 'unary_union' attribute is deprecated, use the 'union_all()' method instead.\n",
      "  admin_union = gdf_sub.geometry.unary_union\n",
      "/opt/anaconda3/envs/midway-debug/lib/python3.9/site-packages/pyogrio/raw.py:198: RuntimeWarning: /Users/yxy/UChi/Spring2025/MACS30123/Final_project/Data/Cleaned/China_BuiltUp_300kCities_2020/China_BuiltUp_300kCities_2020.shp contains polygon(s) with rings with invalid winding order. Autocorrecting them, but that shapefile should be corrected using ogr2ogr for example.\n",
      "  return ogr_read(\n"
     ]
    },
    {
     "name": "stdout",
     "output_type": "stream",
     "text": [
      "average algricultural land rent in Anhui-Anqing is 29.408967034675488 CNY/m2\n"
     ]
    }
   ],
   "source": [
    "avg_price = compute_avg_rural_rent_fast2(prov, city, agr_path, admin_path, builtup_path) \n",
    "print(f\"average algricultural land rent in {prov}-{city} is {avg_price} CNY/m2\")"
   ]
  },
  {
   "cell_type": "markdown",
   "id": "1cdc29fe",
   "metadata": {},
   "source": [
    "## 拆分农村地租数据，匹配省市县"
   ]
  },
  {
   "cell_type": "code",
   "execution_count": 9,
   "id": "14ea8611",
   "metadata": {},
   "outputs": [
    {
     "name": "stdout",
     "output_type": "stream",
     "text": [
      "successfully matched 73003 out of 157267 points.\n",
      "match rate: 46.42%\n",
      "completed! The output file is saved at /Users/yxy/UChi/Spring2025/MACS30123/Final_project/Data/Cleaned/agr_val_with_admin.csv.\n"
     ]
    }
   ],
   "source": [
    "import pandas as pd\n",
    "import geopandas as gpd\n",
    "from shapely.geometry import Point\n",
    "\n",
    "\n",
    "agr_path = \"/Users/yxy/UChi/Spring2025/MACS30123/Final_project/Data/Cleaned/agr_val_2022.csv\"\n",
    "admin_path = \"/Users/yxy/UChi/Spring2025/MACS30123/Final_project/Data/Raw/China_Adm_2020/China2020County.shp\"\n",
    "output_path = \"/Users/yxy/UChi/Spring2025/MACS30123/Final_project/Data/Cleaned/agr_val_with_admin.csv\"\n",
    "\n",
    "\n",
    "\n",
    "df = pd.read_csv(agr_path)\n",
    "gdf_agr = gpd.GeoDataFrame(df, geometry=gpd.points_from_xy(df.lon, df.lat), crs=\"EPSG:4326\")\n",
    "\n",
    "\n",
    "gdf_admin = gpd.read_file(admin_path).to_crs(\"EPSG:4326\")\n",
    "gdf_admin = gdf_admin.rename(columns={\n",
    "    \"NAME_1\": \"province\",\n",
    "    \"NAME_2\": \"city\",\n",
    "    \"NAME_3\": \"county\"\n",
    "})\n",
    "if not gdf_admin.is_valid.all():\n",
    "    gdf_admin[\"geometry\"] = gdf_admin.buffer(0)\n",
    "\n",
    "\n",
    "gdf_joined = gpd.sjoin(\n",
    "    gdf_agr,\n",
    "    gdf_admin[[\"province\", \"city\", \"county\", \"geometry\"]],\n",
    "    how=\"left\",\n",
    "    predicate=\"intersects\"\n",
    ")\n",
    "\n",
    "\n",
    "n_total = len(gdf_joined)\n",
    "n_matched = gdf_joined[\"province\"].notna().sum()\n",
    "match_rate = n_matched / n_total * 100\n",
    "\n",
    "print(f\"successfully matched {n_matched} out of {n_total} points.\")\n",
    "print(f\"match rate: {match_rate:.2f}%\")\n",
    "\n",
    "\n",
    "gdf_joined.drop(columns=[\"geometry\", \"index_right\"], inplace=True)\n",
    "gdf_joined = gdf_joined.dropna(subset=[\"province\"])\n",
    "gdf_joined.to_csv(output_path, index=False)\n",
    "\n",
    "\n",
    "print(f\"completed! The output file is saved at {output_path}.\")\n"
   ]
  },
  {
   "cell_type": "code",
   "execution_count": null,
   "id": "290815c1",
   "metadata": {},
   "outputs": [],
   "source": [
    "import pandas as pd\n",
    "import os\n",
    "\n",
    "agr_path = \"/Users/yxy/UChi/Spring2025/MACS30123/Final_project/Data/Cleaned/agr_val_with_admin.csv\"\n",
    "agr_output_dir = \"/Users/yxy/UChi/Spring2025/MACS30123/Final_project/Data/Cleaned/Agr_lp\"\n",
    "os.makedirs(agr_output_dir, exist_ok=True)\n",
    "\n",
    "df = pd.read_csv(agr_path)\n",
    "\n",
    "df[\"city\"] = df[\"city\"].replace([\"NULL\", \"null\", \"\", \"NaN\", \"nan\"], pd.NA)\n",
    "\n",
    "def generate_prov_city(row):\n",
    "    if pd.notna(row[\"city\"]):\n",
    "        return f\"{row['province']}-{row['city']}\"\n",
    "    elif pd.notna(row[\"county\"]):\n",
    "        return f\"{row['province']}-{row['county']}\"\n",
    "    else:\n",
    "        return pd.NA\n",
    "\n",
    "df[\"prov_city\"] = df.apply(generate_prov_city, axis=1)\n",
    "\n",
    "\n",
    "for prov_city, group in df.groupby(\"prov_city\"):\n",
    "    if pd.isna(prov_city):\n",
    "        continue\n",
    "\n",
    "    filename = f\"{prov_city.strip().replace(' ', '_')}_agr_lp.csv\"\n",
    "    output_path = os.path.join(agr_output_dir, filename)\n",
    "\n",
    "    group.to_csv(output_path, index=False)\n",
    "    print(f\"saved {len(group)} points to {output_path}\")\n",
    "\n",
    "print(\"completed!\")\n",
    "\n"
   ]
  },
  {
   "cell_type": "code",
   "execution_count": 11,
   "id": "78fc6bdb",
   "metadata": {},
   "outputs": [
    {
     "data": {
      "text/plain": [
       "(73003, 10)"
      ]
     },
     "execution_count": 11,
     "metadata": {},
     "output_type": "execute_result"
    }
   ],
   "source": [
    "df.shape"
   ]
  },
  {
   "cell_type": "code",
   "execution_count": 12,
   "id": "14384ddc",
   "metadata": {},
   "outputs": [
    {
     "data": {
      "text/plain": [
       "440"
      ]
     },
     "execution_count": 12,
     "metadata": {},
     "output_type": "execute_result"
    }
   ],
   "source": [
    "df[\"prov_city\"].nunique()"
   ]
  },
  {
   "cell_type": "code",
   "execution_count": 81,
   "id": "93afe926",
   "metadata": {},
   "outputs": [
    {
     "data": {
      "text/html": [
       "<div>\n",
       "<style scoped>\n",
       "    .dataframe tbody tr th:only-of-type {\n",
       "        vertical-align: middle;\n",
       "    }\n",
       "\n",
       "    .dataframe tbody tr th {\n",
       "        vertical-align: top;\n",
       "    }\n",
       "\n",
       "    .dataframe thead th {\n",
       "        text-align: right;\n",
       "    }\n",
       "</style>\n",
       "<table border=\"1\" class=\"dataframe\">\n",
       "  <thead>\n",
       "    <tr style=\"text-align: right;\">\n",
       "      <th></th>\n",
       "      <th>lon</th>\n",
       "      <th>lat</th>\n",
       "      <th>value</th>\n",
       "      <th>area_m2</th>\n",
       "      <th>price_tal_are</th>\n",
       "      <th>price_m2</th>\n",
       "      <th>province</th>\n",
       "      <th>city</th>\n",
       "      <th>county</th>\n",
       "      <th>prov_city</th>\n",
       "    </tr>\n",
       "  </thead>\n",
       "  <tbody>\n",
       "    <tr>\n",
       "      <th>0</th>\n",
       "      <td>110.625000</td>\n",
       "      <td>42.458333</td>\n",
       "      <td>113.744060</td>\n",
       "      <td>6.348930e+07</td>\n",
       "      <td>1533700.4</td>\n",
       "      <td>0.024157</td>\n",
       "      <td>Neimenggu</td>\n",
       "      <td>Baotou</td>\n",
       "      <td>Daerhanmaominganlianhe</td>\n",
       "      <td>Neimenggu-Baotou</td>\n",
       "    </tr>\n",
       "    <tr>\n",
       "      <th>1</th>\n",
       "      <td>109.625000</td>\n",
       "      <td>42.208333</td>\n",
       "      <td>283.251280</td>\n",
       "      <td>6.374217e+07</td>\n",
       "      <td>3819299.2</td>\n",
       "      <td>0.059918</td>\n",
       "      <td>Neimenggu</td>\n",
       "      <td>Baotou</td>\n",
       "      <td>Daerhanmaominganlianhe</td>\n",
       "      <td>Neimenggu-Baotou</td>\n",
       "    </tr>\n",
       "    <tr>\n",
       "      <th>2</th>\n",
       "      <td>110.125000</td>\n",
       "      <td>42.208333</td>\n",
       "      <td>137.060730</td>\n",
       "      <td>6.374217e+07</td>\n",
       "      <td>1848097.5</td>\n",
       "      <td>0.028993</td>\n",
       "      <td>Neimenggu</td>\n",
       "      <td>Baotou</td>\n",
       "      <td>Daerhanmaominganlianhe</td>\n",
       "      <td>Neimenggu-Baotou</td>\n",
       "    </tr>\n",
       "    <tr>\n",
       "      <th>3</th>\n",
       "      <td>110.041667</td>\n",
       "      <td>42.125000</td>\n",
       "      <td>46.350080</td>\n",
       "      <td>6.382619e+07</td>\n",
       "      <td>624974.5</td>\n",
       "      <td>0.009792</td>\n",
       "      <td>Neimenggu</td>\n",
       "      <td>Baotou</td>\n",
       "      <td>Daerhanmaominganlianhe</td>\n",
       "      <td>Neimenggu-Baotou</td>\n",
       "    </tr>\n",
       "    <tr>\n",
       "      <th>4</th>\n",
       "      <td>109.541667</td>\n",
       "      <td>42.041667</td>\n",
       "      <td>74.622765</td>\n",
       "      <td>6.391007e+07</td>\n",
       "      <td>1006197.4</td>\n",
       "      <td>0.015744</td>\n",
       "      <td>Neimenggu</td>\n",
       "      <td>Baotou</td>\n",
       "      <td>Daerhanmaominganlianhe</td>\n",
       "      <td>Neimenggu-Baotou</td>\n",
       "    </tr>\n",
       "  </tbody>\n",
       "</table>\n",
       "</div>"
      ],
      "text/plain": [
       "          lon        lat       value       area_m2  price_tal_are  price_m2  \\\n",
       "0  110.625000  42.458333  113.744060  6.348930e+07      1533700.4  0.024157   \n",
       "1  109.625000  42.208333  283.251280  6.374217e+07      3819299.2  0.059918   \n",
       "2  110.125000  42.208333  137.060730  6.374217e+07      1848097.5  0.028993   \n",
       "3  110.041667  42.125000   46.350080  6.382619e+07       624974.5  0.009792   \n",
       "4  109.541667  42.041667   74.622765  6.391007e+07      1006197.4  0.015744   \n",
       "\n",
       "    province    city                  county         prov_city  \n",
       "0  Neimenggu  Baotou  Daerhanmaominganlianhe  Neimenggu-Baotou  \n",
       "1  Neimenggu  Baotou  Daerhanmaominganlianhe  Neimenggu-Baotou  \n",
       "2  Neimenggu  Baotou  Daerhanmaominganlianhe  Neimenggu-Baotou  \n",
       "3  Neimenggu  Baotou  Daerhanmaominganlianhe  Neimenggu-Baotou  \n",
       "4  Neimenggu  Baotou  Daerhanmaominganlianhe  Neimenggu-Baotou  "
      ]
     },
     "execution_count": 81,
     "metadata": {},
     "output_type": "execute_result"
    }
   ],
   "source": [
    "df.head()"
   ]
  },
  {
   "cell_type": "markdown",
   "id": "1154d330",
   "metadata": {},
   "source": [
    "## 匹配建成区外的点"
   ]
  },
  {
   "cell_type": "code",
   "execution_count": 80,
   "id": "486795a6",
   "metadata": {},
   "outputs": [
    {
     "name": "stderr",
     "output_type": "stream",
     "text": [
      "/opt/anaconda3/envs/midway-debug/lib/python3.9/site-packages/pyogrio/raw.py:198: RuntimeWarning: /Users/yxy/UChi/Spring2025/MACS30123/Final_project/Data/Cleaned/China_BuiltUp_300kCities_2020/China_BuiltUp_300kCities_2020.shp contains polygon(s) with rings with invalid winding order. Autocorrecting them, but that shapefile should be corrected using ogr2ogr for example.\n",
      "  return ogr_read(\n"
     ]
    },
    {
     "name": "stdout",
     "output_type": "stream",
     "text": [
      "\n",
      "Total number of files: 440\n",
      "Number of files with 0 remaining points: 9\n",
      "Proportion: 2.05%\n",
      "\n",
      "List of files with 0 remaining points:\n",
      "- Shanghai-Yangpu_agr_lp.csv\n",
      "- Shanghai-Putuo_agr_lp.csv\n",
      "- Beijing-Shijingshan_agr_lp.csv\n",
      "- Shanghai-Changning_agr_lp.csv\n",
      "- Shanghai-Huangpu_agr_lp.csv\n",
      "- Shanghai-Hongkou_agr_lp.csv\n",
      "- Chongqing-Dadukou_agr_lp.csv\n",
      "- Shanghai-Minhang_agr_lp.csv\n",
      "- Tianjin-Nankai_agr_lp.csv\n"
     ]
    }
   ],
   "source": [
    "import os\n",
    "import pandas as pd\n",
    "import geopandas as gpd\n",
    "from shapely.geometry import Point\n",
    "\n",
    "# === Path settings ===\n",
    "input_dir = \"/Users/yxy/UChi/Spring2025/MACS30123/Final_project/Data/Cleaned/Agr_lp\"\n",
    "builtup_path = \"/Users/yxy/UChi/Spring2025/MACS30123/Final_project/Data/Cleaned/China_BuiltUp_300kCities_2020/China_BuiltUp_300kCities_2020.shp\"\n",
    "\n",
    "# === Load built-up area shapefile ===\n",
    "gdf_builtup = gpd.read_file(builtup_path).to_crs(\"EPSG:4326\")\n",
    "if not gdf_builtup.is_valid.all():\n",
    "    gdf_builtup[\"geometry\"] = gdf_builtup.buffer(0)\n",
    "\n",
    "# === Statistics ===\n",
    "zero_remaining_files = 0\n",
    "total_files = 0\n",
    "zero_file_list = []\n",
    "\n",
    "# === Iterate over all CSV files ===\n",
    "for filename in os.listdir(input_dir):\n",
    "    if not filename.endswith(\".csv\"):\n",
    "        continue\n",
    "\n",
    "    total_files += 1\n",
    "    file_path = os.path.join(input_dir, filename)\n",
    "\n",
    "    # Read CSV and construct GeoDataFrame\n",
    "    df = pd.read_csv(file_path)\n",
    "    if df.empty or \"lon\" not in df.columns or \"lat\" not in df.columns:\n",
    "        print(f\"Warning: File {filename} is missing required fields or is empty. Skipping.\")\n",
    "        continue\n",
    "\n",
    "    gdf = gpd.GeoDataFrame(df, geometry=gpd.points_from_xy(df[\"lon\"], df[\"lat\"]), crs=\"EPSG:4326\")\n",
    "\n",
    "    # Spatial join to check whether points fall within built-up areas\n",
    "    gdf_filtered = gpd.sjoin(gdf, gdf_builtup, predicate=\"within\", how=\"left\")\n",
    "    gdf_remaining = gdf_filtered[gdf_filtered[\"index_right\"].isna()]  # Points not within built-up areas\n",
    "\n",
    "    # Print remaining point count for each file\n",
    "    if len(gdf_remaining) == 0:\n",
    "        zero_remaining_files += 1\n",
    "        zero_file_list.append(filename)\n",
    "\n",
    "# === Summary statistics ===\n",
    "zero_ratio = zero_remaining_files / total_files * 100 if total_files > 0 else 0\n",
    "print(f\"\\nTotal number of files: {total_files}\")\n",
    "print(f\"Number of files with 0 remaining points: {zero_remaining_files}\")\n",
    "print(f\"Proportion: {zero_ratio:.2f}%\")\n",
    "\n",
    "# === Print list of filenames with zero remaining points ===\n",
    "if zero_file_list:\n",
    "    print(\"\\nList of files with 0 remaining points:\")\n",
    "    for fname in zero_file_list:\n",
    "        print(f\"- {fname}\")\n"
   ]
  },
  {
   "cell_type": "markdown",
   "id": "44a60ed0",
   "metadata": {},
   "source": [
    "## 计算平均农业用地价格"
   ]
  },
  {
   "cell_type": "code",
   "execution_count": 85,
   "id": "78a8a0c0",
   "metadata": {},
   "outputs": [
    {
     "name": "stderr",
     "output_type": "stream",
     "text": [
      "/opt/anaconda3/envs/midway-debug/lib/python3.9/site-packages/pyogrio/raw.py:198: RuntimeWarning: /Users/yxy/UChi/Spring2025/MACS30123/Final_project/Data/Cleaned/China_BuiltUp_300kCities_2020/China_BuiltUp_300kCities_2020.shp contains polygon(s) with rings with invalid winding order. Autocorrecting them, but that shapefile should be corrected using ogr2ogr for example.\n",
      "  return ogr_read(\n"
     ]
    },
    {
     "name": "stdout",
     "output_type": "stream",
     "text": [
      "Saved average land price estimates to: /Users/yxy/UChi/Spring2025/MACS30123/Final_project/Data/Cleaned/avg_lp.csv\n"
     ]
    }
   ],
   "source": [
    "import os\n",
    "import pandas as pd\n",
    "import geopandas as gpd\n",
    "from shapely.geometry import Point\n",
    "\n",
    "# === Path settings ===\n",
    "input_dir = \"/Users/yxy/UChi/Spring2025/MACS30123/Final_project/Data/Cleaned/Agr_lp\"\n",
    "builtup_path = \"/Users/yxy/UChi/Spring2025/MACS30123/Final_project/Data/Cleaned/China_BuiltUp_300kCities_2020/China_BuiltUp_300kCities_2020.shp\"\n",
    "avg_output_path = \"/Users/yxy/UChi/Spring2025/MACS30123/Final_project/Data/Cleaned/avg_lp.csv\"\n",
    "\n",
    "gdf_builtup = gpd.read_file(builtup_path).to_crs(\"EPSG:4326\")\n",
    "if not gdf_builtup.is_valid.all():\n",
    "    gdf_builtup[\"geometry\"] = gdf_builtup.buffer(0)\n",
    "\n",
    "\n",
    "results = []\n",
    "\n",
    "\n",
    "for filename in os.listdir(input_dir):\n",
    "    if not filename.endswith(\".csv\"):\n",
    "        continue\n",
    "\n",
    "    file_path = os.path.join(input_dir, filename)\n",
    "    df = pd.read_csv(file_path)\n",
    "\n",
    "    if df.empty or \"lon\" not in df.columns or \"lat\" not in df.columns or \"price_m2\" not in df.columns:\n",
    "        continue\n",
    "\n",
    "\n",
    "    prov_city = filename.replace(\"_agr_lp.csv\", \"\")\n",
    "\n",
    "    if len(df) <= 5:\n",
    "        avg_price = df[\"price_m2\"].mean() / 0.05\n",
    "        results.append({\"prov_city\": prov_city, \"land_price\": avg_price})\n",
    "        continue\n",
    "\n",
    "    gdf = gpd.GeoDataFrame(df, geometry=gpd.points_from_xy(df[\"lon\"], df[\"lat\"]), crs=\"EPSG:4326\")\n",
    "    gdf_filtered = gpd.sjoin(gdf, gdf_builtup, predicate=\"within\", how=\"left\")\n",
    "    gdf_outside = gdf_filtered[gdf_filtered[\"index_right\"].isna()]\n",
    "\n",
    "    if gdf_outside.empty:\n",
    "        continue \n",
    "    else:\n",
    "        avg_price = gdf_outside[\"price_m2\"].mean() / 0.05\n",
    "        results.append({\"prov_city\": prov_city, \"land_price\": avg_price})\n",
    "\n",
    "df_result = pd.DataFrame(results)\n",
    "df_result.to_csv(avg_output_path, index=False)\n",
    "print(f\"Saved average land price estimates to: {avg_output_path}\")\n"
   ]
  },
  {
   "cell_type": "markdown",
   "id": "adc6ea9e",
   "metadata": {},
   "source": [
    "\n",
    "## Land Output Elasticity\n",
    "\n",
    "Due to substantial missing data on key housing-related variables across many cities, it is difficult to reliably estimate the land output elasticity empirically for each city. Therefore, we adopt a unified value for the land output elasticity $\\alpha$ based on estimates from the existing literature, and use it consistently to compute urban land rents.\n",
    "\n",
    "In this study, we set $\\alpha = 0.3$, following the empirical estimates reported in Table 1 of **Zhang and Jin (2012)**. The authors estimate a translog stochastic frontier production function that includes capital (K), labor (L), and land (l) as inputs. According to their results, the estimated elasticity of land—captured by the coefficient on $\\ln(l)$—is **0.293**, and is statistically significant at the 5% level. This value reflects the marginal contribution of land to output across Chinese cities.\n",
    "\n",
    "Thus, using $\\alpha = 0.3$ serves as a theoretically grounded and empirically supported calibration for decomposing land rent.\n",
    "\n"
   ]
  }
 ],
 "metadata": {
  "kernelspec": {
   "display_name": "midway-debug",
   "language": "python",
   "name": "python3"
  },
  "language_info": {
   "codemirror_mode": {
    "name": "ipython",
    "version": 3
   },
   "file_extension": ".py",
   "mimetype": "text/x-python",
   "name": "python",
   "nbconvert_exporter": "python",
   "pygments_lexer": "ipython3",
   "version": "3.9.13"
  }
 },
 "nbformat": 4,
 "nbformat_minor": 5
}
